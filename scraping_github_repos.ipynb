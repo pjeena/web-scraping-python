{
 "cells": [
  {
   "cell_type": "code",
   "execution_count": 3,
   "id": "74fd499f",
   "metadata": {},
   "outputs": [],
   "source": [
    "import numpy as np\n",
    "import requests"
   ]
  },
  {
   "cell_type": "code",
   "execution_count": 4,
   "id": "41ccda38",
   "metadata": {},
   "outputs": [],
   "source": [
    "topics_url = \"https://github.com/topics\""
   ]
  },
  {
   "cell_type": "code",
   "execution_count": 5,
   "id": "7fe9830a",
   "metadata": {},
   "outputs": [],
   "source": [
    "response = requests.get(topics_url)"
   ]
  },
  {
   "cell_type": "code",
   "execution_count": 7,
   "id": "4918ee88",
   "metadata": {},
   "outputs": [
    {
     "data": {
      "text/plain": [
       "200"
      ]
     },
     "execution_count": 7,
     "metadata": {},
     "output_type": "execute_result"
    }
   ],
   "source": [
    "response.status_code"
   ]
  },
  {
   "cell_type": "code",
   "execution_count": 10,
   "id": "c4e8064d",
   "metadata": {},
   "outputs": [],
   "source": [
    "page_contents =  response.text "
   ]
  },
  {
   "cell_type": "code",
   "execution_count": 11,
   "id": "c88f3bf9",
   "metadata": {},
   "outputs": [
    {
     "data": {
      "text/plain": [
       "'\\n\\n<!DOCTYPE html>\\n<html lang=\"en\" data-color-mode=\"auto\" data-light-theme=\"light\" data-dark-theme=\"dark\" data-a11y-animated-images=\"system\">\\n  <head>\\n    <meta charset=\"utf-8\">\\n  <link rel=\"dns-prefetch\" href=\"https://github.githubassets.com\">\\n  <link rel=\"dns-prefetch\" href=\"https://avatars.githubusercontent.com\">\\n  <link rel=\"dns-prefetch\" href=\"https://github-cloud.s3.amazonaws.com\">\\n  <link rel=\"dns-prefetch\" href=\"https://user-images.githubusercontent.com/\">\\n  <link rel=\"preconnect\" href=\"https://github.githubassets.com\" crossorigin>\\n  <link rel=\"preconnect\" href=\"https://avatars.githubusercontent.com\">\\n\\n\\n\\n  <link crossorigin=\"anonymous\" media=\"all\" rel=\"stylesheet\" href=\"https://github.githubassets.com/assets/light-5178aee0ee76.css\" /><link crossorigin=\"anonymous\" media=\"all\" rel=\"stylesheet\" href=\"https://github.githubassets.com/assets/dark-217d4f9c8e70.css\" /><link data-color-theme=\"dark_dimmed\" crossorigin=\"anonymous\" media=\"all\" rel=\"stylesheet\" data-href=\"https://github.gith'"
      ]
     },
     "execution_count": 11,
     "metadata": {},
     "output_type": "execute_result"
    }
   ],
   "source": [
    "page_contents[0:1000]"
   ]
  },
  {
   "cell_type": "code",
   "execution_count": 12,
   "id": "520889d4",
   "metadata": {},
   "outputs": [
    {
     "ename": "ModuleNotFoundError",
     "evalue": "No module named 'beautifulsoup'",
     "output_type": "error",
     "traceback": [
      "\u001b[0;31m---------------------------------------------------------------------------\u001b[0m",
      "\u001b[0;31mModuleNotFoundError\u001b[0m                       Traceback (most recent call last)",
      "Input \u001b[0;32mIn [12]\u001b[0m, in \u001b[0;36m<cell line: 1>\u001b[0;34m()\u001b[0m\n\u001b[0;32m----> 1\u001b[0m \u001b[38;5;28;01mimport\u001b[39;00m \u001b[38;5;21;01mbeautifulsoup\u001b[39;00m\n",
      "\u001b[0;31mModuleNotFoundError\u001b[0m: No module named 'beautifulsoup'"
     ]
    }
   ],
   "source": [
    "import beautifulsoup"
   ]
  },
  {
   "cell_type": "code",
   "execution_count": 13,
   "id": "8d24d27c",
   "metadata": {},
   "outputs": [
    {
     "name": "stdout",
     "output_type": "stream",
     "text": [
      "Requirement already satisfied: beautifulsoup4 in /Users/piyush/miniconda3/lib/python3.9/site-packages (4.11.1)\n",
      "Requirement already satisfied: soupsieve>1.2 in /Users/piyush/miniconda3/lib/python3.9/site-packages (from beautifulsoup4) (2.3.1)\n",
      "Note: you may need to restart the kernel to use updated packages.\n"
     ]
    }
   ],
   "source": [
    " pip install beautifulsoup4"
   ]
  },
  {
   "cell_type": "code",
   "execution_count": 14,
   "id": "6cca3e3a",
   "metadata": {},
   "outputs": [],
   "source": [
    "from bs4 import BeautifulSoup"
   ]
  },
  {
   "cell_type": "code",
   "execution_count": 15,
   "id": "57c6b677",
   "metadata": {},
   "outputs": [],
   "source": [
    "doc = BeautifulSoup(page_contents, 'html.parser')"
   ]
  },
  {
   "cell_type": "code",
   "execution_count": 16,
   "id": "731b891d",
   "metadata": {},
   "outputs": [],
   "source": [
    "p_tags = doc.find_all('p')"
   ]
  },
  {
   "cell_type": "code",
   "execution_count": 17,
   "id": "f9a2f41e",
   "metadata": {},
   "outputs": [
    {
     "data": {
      "text/plain": [
       "67"
      ]
     },
     "execution_count": 17,
     "metadata": {},
     "output_type": "execute_result"
    }
   ],
   "source": [
    "len(p_tags)"
   ]
  },
  {
   "cell_type": "code",
   "execution_count": 18,
   "id": "67acd14c",
   "metadata": {},
   "outputs": [
    {
     "data": {
      "text/plain": [
       "[<p class=\"f4 color-fg-muted col-md-6 mx-auto\">Browse popular topics on GitHub.</p>,\n",
       " <p class=\"f3 lh-condensed text-center Link--primary mb-0 mt-1\">\n",
       "         Xamarin\n",
       "       </p>,\n",
       " <p class=\"f5 color-fg-muted text-center mb-0 mt-1\">Xamarin is a platform for developing iOS and Android applications.</p>,\n",
       " <p class=\"f3 lh-condensed text-center Link--primary mb-0 mt-1\">\n",
       "         Google\n",
       "       </p>,\n",
       " <p class=\"f5 color-fg-muted text-center mb-0 mt-1\">Google LLC is an American multinational technology company that specializes in Internet-related services and products.</p>]"
      ]
     },
     "execution_count": 18,
     "metadata": {},
     "output_type": "execute_result"
    }
   ],
   "source": [
    "p_tags[0:5]"
   ]
  },
  {
   "cell_type": "code",
   "execution_count": null,
   "id": "92d4e93b",
   "metadata": {},
   "outputs": [],
   "source": []
  }
 ],
 "metadata": {
  "kernelspec": {
   "display_name": "Python 3 (ipykernel)",
   "language": "python",
   "name": "python3"
  },
  "language_info": {
   "codemirror_mode": {
    "name": "ipython",
    "version": 3
   },
   "file_extension": ".py",
   "mimetype": "text/x-python",
   "name": "python",
   "nbconvert_exporter": "python",
   "pygments_lexer": "ipython3",
   "version": "3.9.12"
  }
 },
 "nbformat": 4,
 "nbformat_minor": 5
}
